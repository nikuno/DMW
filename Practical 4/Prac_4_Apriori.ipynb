{
 "cells": [
  {
   "cell_type": "code",
   "execution_count": 1,
   "metadata": {},
   "outputs": [
    {
     "name": "stdout",
     "output_type": "stream",
     "text": [
      "Requirement already satisfied: apyori in c:\\users\\user\\anaconda3\\lib\\site-packages (1.1.2)\n",
      "Note: you may need to restart the kernel to use updated packages.\n"
     ]
    }
   ],
   "source": [
    "pip install apyori"
   ]
  },
  {
   "cell_type": "code",
   "execution_count": 2,
   "metadata": {
    "id": "JqXzcCzwhqF6"
   },
   "outputs": [],
   "source": [
    "import numpy as np\n",
    "import pandas as pd\n",
    "import matplotlib.pyplot as plt\n",
    "from apyori import apriori"
   ]
  },
  {
   "cell_type": "code",
   "execution_count": 3,
   "metadata": {
    "id": "tCfUkhzwhsCj"
   },
   "outputs": [],
   "source": [
    "df = pd.read_csv(\"Stationery.csv\")"
   ]
  },
  {
   "cell_type": "code",
   "execution_count": 4,
   "metadata": {},
   "outputs": [],
   "source": [
    "df = pd.read_csv(\"Stationery.csv\", header=None)"
   ]
  },
  {
   "cell_type": "code",
   "execution_count": 5,
   "metadata": {
    "colab": {
     "base_uri": "https://localhost:8080/",
     "height": 206
    },
    "id": "sN0jKLWvhuXr",
    "outputId": "afba77d4-f44c-4109-ff25-394c9167516e"
   },
   "outputs": [
    {
     "data": {
      "text/html": [
       "<div>\n",
       "<style scoped>\n",
       "    .dataframe tbody tr th:only-of-type {\n",
       "        vertical-align: middle;\n",
       "    }\n",
       "\n",
       "    .dataframe tbody tr th {\n",
       "        vertical-align: top;\n",
       "    }\n",
       "\n",
       "    .dataframe thead th {\n",
       "        text-align: right;\n",
       "    }\n",
       "</style>\n",
       "<table border=\"1\" class=\"dataframe\">\n",
       "  <thead>\n",
       "    <tr style=\"text-align: right;\">\n",
       "      <th></th>\n",
       "      <th>0</th>\n",
       "      <th>1</th>\n",
       "      <th>2</th>\n",
       "      <th>3</th>\n",
       "      <th>4</th>\n",
       "      <th>5</th>\n",
       "      <th>6</th>\n",
       "    </tr>\n",
       "  </thead>\n",
       "  <tbody>\n",
       "    <tr>\n",
       "      <th>0</th>\n",
       "      <td>ID</td>\n",
       "      <td>Name</td>\n",
       "      <td>Item1</td>\n",
       "      <td>Item2</td>\n",
       "      <td>Item3</td>\n",
       "      <td>Item4</td>\n",
       "      <td>Bill</td>\n",
       "    </tr>\n",
       "    <tr>\n",
       "      <th>1</th>\n",
       "      <td>1</td>\n",
       "      <td>Tushar</td>\n",
       "      <td>Pencil</td>\n",
       "      <td>Eraser</td>\n",
       "      <td>Sharpner</td>\n",
       "      <td>NaN</td>\n",
       "      <td>20</td>\n",
       "    </tr>\n",
       "    <tr>\n",
       "      <th>2</th>\n",
       "      <td>2</td>\n",
       "      <td>Ramesh</td>\n",
       "      <td>Pen</td>\n",
       "      <td>Pages</td>\n",
       "      <td>Files</td>\n",
       "      <td>Gum</td>\n",
       "      <td>65</td>\n",
       "    </tr>\n",
       "    <tr>\n",
       "      <th>3</th>\n",
       "      <td>3</td>\n",
       "      <td>Pankaj</td>\n",
       "      <td>Eraser</td>\n",
       "      <td>Perfume</td>\n",
       "      <td>Chocolate</td>\n",
       "      <td>NaN</td>\n",
       "      <td>40</td>\n",
       "    </tr>\n",
       "    <tr>\n",
       "      <th>4</th>\n",
       "      <td>4</td>\n",
       "      <td>Kartik</td>\n",
       "      <td>Pages</td>\n",
       "      <td>Files</td>\n",
       "      <td>Stapler</td>\n",
       "      <td>Scale</td>\n",
       "      <td>110</td>\n",
       "    </tr>\n",
       "  </tbody>\n",
       "</table>\n",
       "</div>"
      ],
      "text/plain": [
       "    0       1       2        3          4      5     6\n",
       "0  ID    Name   Item1    Item2      Item3  Item4  Bill\n",
       "1   1  Tushar  Pencil   Eraser   Sharpner    NaN    20\n",
       "2   2  Ramesh     Pen    Pages      Files    Gum    65\n",
       "3   3  Pankaj  Eraser  Perfume  Chocolate    NaN    40\n",
       "4   4  Kartik   Pages    Files    Stapler  Scale   110"
      ]
     },
     "execution_count": 5,
     "metadata": {},
     "output_type": "execute_result"
    }
   ],
   "source": [
    "df.head()"
   ]
  },
  {
   "cell_type": "code",
   "execution_count": 6,
   "metadata": {
    "colab": {
     "base_uri": "https://localhost:8080/"
    },
    "id": "hR9rDrPEhwPV",
    "outputId": "6f79c68a-dfdd-470e-d6b6-464d912bfcf8"
   },
   "outputs": [
    {
     "data": {
      "text/plain": [
       "0     0\n",
       "1     0\n",
       "2     0\n",
       "3     2\n",
       "4     6\n",
       "5    16\n",
       "6     0\n",
       "dtype: int64"
      ]
     },
     "execution_count": 6,
     "metadata": {},
     "output_type": "execute_result"
    }
   ],
   "source": [
    "df.isnull().sum()"
   ]
  },
  {
   "cell_type": "code",
   "execution_count": 7,
   "metadata": {},
   "outputs": [
    {
     "data": {
      "text/plain": [
       "(24, 7)"
      ]
     },
     "execution_count": 7,
     "metadata": {},
     "output_type": "execute_result"
    }
   ],
   "source": [
    "df.shape"
   ]
  },
  {
   "cell_type": "code",
   "execution_count": 8,
   "metadata": {
    "id": "T0G6A6RKhyE9"
   },
   "outputs": [],
   "source": [
    "#df1 = df[['Item','Item2','Item3','Item4']]"
   ]
  },
  {
   "cell_type": "code",
   "execution_count": 9,
   "metadata": {
    "colab": {
     "base_uri": "https://localhost:8080/"
    },
    "id": "gTDwbZPVhz-7",
    "outputId": "6ff416e9-42e0-4cda-c5b6-440d941d97e2"
   },
   "outputs": [
    {
     "name": "stdout",
     "output_type": "stream",
     "text": [
      "<class 'pandas.core.frame.DataFrame'>\n",
      "RangeIndex: 24 entries, 0 to 23\n",
      "Data columns (total 7 columns):\n",
      " #   Column  Non-Null Count  Dtype \n",
      "---  ------  --------------  ----- \n",
      " 0   0       24 non-null     object\n",
      " 1   1       24 non-null     object\n",
      " 2   2       24 non-null     object\n",
      " 3   3       22 non-null     object\n",
      " 4   4       18 non-null     object\n",
      " 5   5       8 non-null      object\n",
      " 6   6       24 non-null     object\n",
      "dtypes: object(7)\n",
      "memory usage: 1.4+ KB\n"
     ]
    }
   ],
   "source": [
    "df.info()"
   ]
  },
  {
   "cell_type": "code",
   "execution_count": 10,
   "metadata": {
    "colab": {
     "base_uri": "https://localhost:8080/",
     "height": 206
    },
    "id": "jn5NpmO5h1X6",
    "outputId": "743aa466-345e-402e-e6f8-c55091a4c78d"
   },
   "outputs": [
    {
     "data": {
      "text/html": [
       "<div>\n",
       "<style scoped>\n",
       "    .dataframe tbody tr th:only-of-type {\n",
       "        vertical-align: middle;\n",
       "    }\n",
       "\n",
       "    .dataframe tbody tr th {\n",
       "        vertical-align: top;\n",
       "    }\n",
       "\n",
       "    .dataframe thead th {\n",
       "        text-align: right;\n",
       "    }\n",
       "</style>\n",
       "<table border=\"1\" class=\"dataframe\">\n",
       "  <thead>\n",
       "    <tr style=\"text-align: right;\">\n",
       "      <th></th>\n",
       "      <th>0</th>\n",
       "      <th>1</th>\n",
       "      <th>2</th>\n",
       "      <th>3</th>\n",
       "      <th>4</th>\n",
       "      <th>5</th>\n",
       "      <th>6</th>\n",
       "    </tr>\n",
       "  </thead>\n",
       "  <tbody>\n",
       "    <tr>\n",
       "      <th>0</th>\n",
       "      <td>ID</td>\n",
       "      <td>Name</td>\n",
       "      <td>Item1</td>\n",
       "      <td>Item2</td>\n",
       "      <td>Item3</td>\n",
       "      <td>Item4</td>\n",
       "      <td>Bill</td>\n",
       "    </tr>\n",
       "    <tr>\n",
       "      <th>1</th>\n",
       "      <td>1</td>\n",
       "      <td>Tushar</td>\n",
       "      <td>Pencil</td>\n",
       "      <td>Eraser</td>\n",
       "      <td>Sharpner</td>\n",
       "      <td>NaN</td>\n",
       "      <td>20</td>\n",
       "    </tr>\n",
       "    <tr>\n",
       "      <th>2</th>\n",
       "      <td>2</td>\n",
       "      <td>Ramesh</td>\n",
       "      <td>Pen</td>\n",
       "      <td>Pages</td>\n",
       "      <td>Files</td>\n",
       "      <td>Gum</td>\n",
       "      <td>65</td>\n",
       "    </tr>\n",
       "    <tr>\n",
       "      <th>3</th>\n",
       "      <td>3</td>\n",
       "      <td>Pankaj</td>\n",
       "      <td>Eraser</td>\n",
       "      <td>Perfume</td>\n",
       "      <td>Chocolate</td>\n",
       "      <td>NaN</td>\n",
       "      <td>40</td>\n",
       "    </tr>\n",
       "    <tr>\n",
       "      <th>4</th>\n",
       "      <td>4</td>\n",
       "      <td>Kartik</td>\n",
       "      <td>Pages</td>\n",
       "      <td>Files</td>\n",
       "      <td>Stapler</td>\n",
       "      <td>Scale</td>\n",
       "      <td>110</td>\n",
       "    </tr>\n",
       "  </tbody>\n",
       "</table>\n",
       "</div>"
      ],
      "text/plain": [
       "    0       1       2        3          4      5     6\n",
       "0  ID    Name   Item1    Item2      Item3  Item4  Bill\n",
       "1   1  Tushar  Pencil   Eraser   Sharpner    NaN    20\n",
       "2   2  Ramesh     Pen    Pages      Files    Gum    65\n",
       "3   3  Pankaj  Eraser  Perfume  Chocolate    NaN    40\n",
       "4   4  Kartik   Pages    Files    Stapler  Scale   110"
      ]
     },
     "execution_count": 10,
     "metadata": {},
     "output_type": "execute_result"
    }
   ],
   "source": [
    "df.head()"
   ]
  },
  {
   "cell_type": "code",
   "execution_count": 11,
   "metadata": {
    "id": "Mv1AVuKCh3pw"
   },
   "outputs": [],
   "source": [
    "records = []\n",
    "for i in range(24):\n",
    "    records.append([str(df.values[i, j]) for j in range(0, 7)])"
   ]
  },
  {
   "cell_type": "code",
   "execution_count": 12,
   "metadata": {},
   "outputs": [
    {
     "data": {
      "text/plain": [
       "[['ID', 'Name', 'Item1', 'Item2', 'Item3', 'Item4', 'Bill'],\n",
       " ['1', 'Tushar', 'Pencil', 'Eraser', 'Sharpner', 'nan', '20'],\n",
       " ['2', 'Ramesh', 'Pen', 'Pages', 'Files', 'Gum', '65'],\n",
       " ['3', 'Pankaj', 'Eraser', 'Perfume', 'Chocolate', 'nan', '40'],\n",
       " ['4', 'Kartik', 'Pages', 'Files', 'Stapler', 'Scale', '110'],\n",
       " ['5', 'Ganesh', 'Biscuits', 'Chocolate', 'nan', 'nan', '15'],\n",
       " ['6', 'Aradhya', 'Pages', 'Files', 'Compass', 'nan', '68'],\n",
       " ['7', 'Aman', 'Pencil', 'Pen', 'Notebook', 'nan', '46'],\n",
       " ['8', 'Armaan', 'Biscuits', 'Chocolate', 'nan', 'nan', '15'],\n",
       " ['9', 'Vaibhav', 'Pencil', 'Pen', 'Scale', 'nan', '25'],\n",
       " ['10', 'Sumit', 'Files', 'nan', 'nan', 'nan', '20'],\n",
       " ['11', 'Heena', 'Biscuits', 'Chocolate', 'nan', 'nan', '9'],\n",
       " ['12', 'Manas', 'Pages', 'Notebook', 'Perfume', 'nan', '120'],\n",
       " ['13', 'Vikas', 'Files', 'Gum', 'Scale', 'nan', '25'],\n",
       " ['14', 'Akshay', 'Pen', 'Files', 'Compass', 'Chocolate', '45'],\n",
       " ['15', 'Ashish', 'Compass', 'nan', 'nan', 'nan', '18'],\n",
       " ['16', 'Nilesh', 'Pencil', 'Biscuits', 'Chocolate', 'nan', '15'],\n",
       " ['17', 'Ashish', 'Scale', 'Biscuits', 'Chocolate', 'nan', '28'],\n",
       " ['18', 'Saurabh', 'Pencil', 'Eraser', 'Sharpner', 'Pen', '25'],\n",
       " ['19', 'Abhishek', 'Gum', 'Compass', 'Scale', 'Sheets', '53'],\n",
       " ['20', 'Akash', 'Pen', 'Notebook', 'Chocolate', 'nan', '65'],\n",
       " ['21', 'Popat', 'Pencil', 'Eraser', 'Sharpner', 'Pen', '24'],\n",
       " ['22', 'Sandip', 'Pencil', 'Pen', 'Pages', 'Files', '50'],\n",
       " ['23', 'Tejaswini', 'Notebook', 'Sheets', 'nan', 'nan', '45']]"
      ]
     },
     "execution_count": 12,
     "metadata": {},
     "output_type": "execute_result"
    }
   ],
   "source": [
    "records"
   ]
  },
  {
   "cell_type": "code",
   "execution_count": 13,
   "metadata": {
    "colab": {
     "base_uri": "https://localhost:8080/"
    },
    "id": "2-zKLDKOh5ys",
    "outputId": "fd9c4de2-9d4a-41ce-af8f-2693bb7415eb"
   },
   "outputs": [
    {
     "name": "stdout",
     "output_type": "stream",
     "text": [
      "<class 'list'>\n"
     ]
    }
   ],
   "source": [
    "print(type(records))"
   ]
  },
  {
   "cell_type": "code",
   "execution_count": null,
   "metadata": {
    "id": "mnOfy34oh7lZ"
   },
   "outputs": [],
   "source": [
    "association_rules = apriori(records, min_support=0.0045, min_confidance=0.2, min_lift=3, min_length=2)\n",
    "association_results = list(association_rules)"
   ]
  },
  {
   "cell_type": "code",
   "execution_count": null,
   "metadata": {},
   "outputs": [],
   "source": [
    "print(len(association_results))"
   ]
  },
  {
   "cell_type": "code",
   "execution_count": null,
   "metadata": {
    "colab": {
     "base_uri": "https://localhost:8080/"
    },
    "id": "fxLlNOKgh-TE",
    "outputId": "1a4fd3ca-69ea-462f-dafd-a3dcef36dbc4"
   },
   "outputs": [],
   "source": [
    "for i in range(0, len(association_results)):\n",
    "    print(association_results[i][0])"
   ]
  },
  {
   "cell_type": "code",
   "execution_count": null,
   "metadata": {
    "colab": {
     "base_uri": "https://localhost:8080/"
    },
    "id": "AKQfyrr5iAXP",
    "outputId": "1b0cafc0-37ee-49a0-94e2-2d7f9b3a7c81"
   },
   "outputs": [],
   "source": [
    "for item in association_results:\n",
    "    # first index of the inner list\n",
    "    # Contains base item and add item\n",
    "    pair = item[0]\n",
    "    items = [x for x in pair]\n",
    "    print(\"Rule: \" + items[0] + \" -> \" + items[1])\n",
    "\n",
    "    # second index of the inner list\n",
    "    print(\"Support: \" + str(item[1]))\n",
    "\n",
    "    # third index of the list located at 0th\n",
    "    # of the third index of the inner list\n",
    "\n",
    "    print(\"Confidence: \" + str(item[2][0][2]))\n",
    "    print(\"Lift: \" + str(item[2][0][3]))\n",
    "    print(\"=====================================\")"
   ]
  }
 ],
 "metadata": {
  "colab": {
   "provenance": []
  },
  "kernelspec": {
   "display_name": "Python 3 (ipykernel)",
   "language": "python",
   "name": "python3"
  },
  "language_info": {
   "codemirror_mode": {
    "name": "ipython",
    "version": 3
   },
   "file_extension": ".py",
   "mimetype": "text/x-python",
   "name": "python",
   "nbconvert_exporter": "python",
   "pygments_lexer": "ipython3",
   "version": "3.9.7"
  }
 },
 "nbformat": 4,
 "nbformat_minor": 1
}
